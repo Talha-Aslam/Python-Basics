{
 "cells": [
  {
   "cell_type": "code",
   "execution_count": 1,
   "id": "dd0759d8",
   "metadata": {},
   "outputs": [
    {
     "name": "stdout",
     "output_type": "stream",
     "text": [
      "Hello World! This is a sample Python script.\n"
     ]
    }
   ],
   "source": [
    "print(\"Hello World! This is a sample Python script.\")"
   ]
  },
  {
   "cell_type": "markdown",
   "id": "37c5d6aa",
   "metadata": {},
   "source": [
    ">Variables"
   ]
  },
  {
   "cell_type": "code",
   "execution_count": 2,
   "id": "dc3a9c5b",
   "metadata": {},
   "outputs": [
    {
     "name": "stdout",
     "output_type": "stream",
     "text": [
      "10 12 3\n",
      "<class 'int'> <class 'int'> <class 'str'>\n"
     ]
    }
   ],
   "source": [
    "x = 10\n",
    "y = \"hello\"\n",
    "y = 12\n",
    "z = str(3)\n",
    "print(x, y, z)\n",
    "print(type(x), type(y), type(z))"
   ]
  },
  {
   "cell_type": "markdown",
   "id": "06237e80",
   "metadata": {},
   "source": [
    ">Many Values to Multiple Variables\n",
    ">one value to multiples"
   ]
  },
  {
   "cell_type": "code",
   "execution_count": 3,
   "id": "f736a53f",
   "metadata": {},
   "outputs": [
    {
     "name": "stdout",
     "output_type": "stream",
     "text": [
      "5 3.2 John\n",
      "Orange Orange Orange\n"
     ]
    }
   ],
   "source": [
    "x ,z ,y = 5, \"John\", 3.2\n",
    "print(x, y, z)\n",
    "x = y = z = \"Orange\"\n",
    "print(x, y, z)"
   ]
  },
  {
   "cell_type": "markdown",
   "id": "00868a73",
   "metadata": {},
   "source": [
    ">Gloabl variables and Local variables"
   ]
  },
  {
   "cell_type": "code",
   "execution_count": 4,
   "id": "d3d1fbc9",
   "metadata": {},
   "outputs": [
    {
     "name": "stdout",
     "output_type": "stream",
     "text": [
      "i am Talha\n",
      "i am Haseeb\n"
     ]
    }
   ],
   "source": [
    "x = \"Haseeb\"\n",
    "def myfunc():\n",
    "    x = \"Talha\"\n",
    "    print(\"i am \" + x)\n",
    "\n",
    "myfunc()\n",
    "print(\"i am \" + x)\n"
   ]
  },
  {
   "cell_type": "markdown",
   "id": "77710799",
   "metadata": {},
   "source": [
    ">Global inside a variable"
   ]
  },
  {
   "cell_type": "code",
   "execution_count": 5,
   "id": "066812b3",
   "metadata": {},
   "outputs": [
    {
     "name": "stdout",
     "output_type": "stream",
     "text": [
      "i am Talha\n",
      "i am Talha\n"
     ]
    }
   ],
   "source": [
    "#Create a global variable inside a function\n",
    "x = \"Haseeb\"\n",
    "def myfunction():\n",
    "    global x\n",
    "    x = \"Talha\"\n",
    "    print(\"i am \" + x)\n",
    "\n",
    "myfunction()\n",
    "print(\"i am \" + x)"
   ]
  },
  {
   "cell_type": "markdown",
   "id": "7e485ecb",
   "metadata": {},
   "source": [
    ">Complex numbers"
   ]
  },
  {
   "cell_type": "code",
   "execution_count": null,
   "id": "56c9e956",
   "metadata": {},
   "outputs": [
    {
     "name": "stdout",
     "output_type": "stream",
     "text": [
      "(3+5j) <class 'complex'>\n"
     ]
    }
   ],
   "source": [
    "x = 3+5j\n",
    "print(x, type(x))"
   ]
  },
  {
   "cell_type": "markdown",
   "id": "141ad6b8",
   "metadata": {},
   "source": [
    ">Random Module"
   ]
  },
  {
   "cell_type": "code",
   "execution_count": 7,
   "id": "0872f488",
   "metadata": {},
   "outputs": [
    {
     "name": "stdout",
     "output_type": "stream",
     "text": [
      "57\n"
     ]
    }
   ],
   "source": [
    "import random\n",
    "print(random.randrange(20, 100))"
   ]
  },
  {
   "cell_type": "markdown",
   "id": "7d39a787",
   "metadata": {},
   "source": [
    ">Multiline String"
   ]
  },
  {
   "cell_type": "code",
   "execution_count": 8,
   "id": "e92692e9",
   "metadata": {},
   "outputs": [
    {
     "name": "stdout",
     "output_type": "stream",
     "text": [
      "Hello,Lets Start a new journey as python developer.\n",
      "I am excited that you are here to learn with me.\n",
      "This is a multiline string example.\n"
     ]
    }
   ],
   "source": [
    "line = '''Hello,Lets Start a new journey as python developer.\n",
    "I am excited that you are here to learn with me.\n",
    "This is a multiline string example.'''\n",
    "\n",
    "print(line)"
   ]
  },
  {
   "cell_type": "markdown",
   "id": "b4f25230",
   "metadata": {},
   "source": [
    ">Strings are Array"
   ]
  },
  {
   "cell_type": "code",
   "execution_count": 9,
   "id": "f1b1df44",
   "metadata": {},
   "outputs": [
    {
     "name": "stdout",
     "output_type": "stream",
     "text": [
      "e\n"
     ]
    }
   ],
   "source": [
    "hello = \"Hello, World!\"\n",
    "print(hello[1])"
   ]
  },
  {
   "cell_type": "markdown",
   "id": "05e8142d",
   "metadata": {},
   "source": [
    ">Loop through String"
   ]
  },
  {
   "cell_type": "code",
   "execution_count": 10,
   "id": "048400e0",
   "metadata": {},
   "outputs": [
    {
     "name": "stdout",
     "output_type": "stream",
     "text": [
      "H\n",
      "e\n",
      "l\n",
      "l\n",
      "o\n",
      ",\n",
      " \n",
      "W\n",
      "o\n",
      "r\n",
      "l\n",
      "d\n",
      "!\n"
     ]
    }
   ],
   "source": [
    "hello = \"Hello, World!\"\n",
    "for x in hello:\n",
    "    print(x)"
   ]
  },
  {
   "cell_type": "markdown",
   "id": "a5540343",
   "metadata": {},
   "source": [
    ">String length"
   ]
  },
  {
   "cell_type": "code",
   "execution_count": 11,
   "id": "72dbdf7d",
   "metadata": {},
   "outputs": [
    {
     "name": "stdout",
     "output_type": "stream",
     "text": [
      "13\n"
     ]
    }
   ],
   "source": [
    "hello = \"Hello, World!\"\n",
    "print(len(hello))"
   ]
  },
  {
   "cell_type": "markdown",
   "id": "8a64a769",
   "metadata": {},
   "source": [
    ">Check String"
   ]
  },
  {
   "cell_type": "code",
   "execution_count": 12,
   "id": "dd4d805f",
   "metadata": {},
   "outputs": [
    {
     "name": "stdout",
     "output_type": "stream",
     "text": [
      "True\n"
     ]
    }
   ],
   "source": [
    "hello = \"Hello, World!Good days are yet to come\"\n",
    "print(\"World\" in hello)"
   ]
  },
  {
   "cell_type": "markdown",
   "id": "a28b0045",
   "metadata": {},
   "source": [
    ">Check String (If not)"
   ]
  },
  {
   "cell_type": "code",
   "execution_count": 13,
   "id": "f6f4f670",
   "metadata": {},
   "outputs": [
    {
     "name": "stdout",
     "output_type": "stream",
     "text": [
      "False\n"
     ]
    }
   ],
   "source": [
    "hello = \"Hello, World!Good days are yet to come\"\n",
    "print(\"World\" not in hello)"
   ]
  },
  {
   "cell_type": "markdown",
   "id": "99e79a68",
   "metadata": {},
   "source": [
    ">Check String (If not) with if "
   ]
  },
  {
   "cell_type": "code",
   "execution_count": 15,
   "id": "759c9c8e",
   "metadata": {},
   "outputs": [
    {
     "name": "stdout",
     "output_type": "stream",
     "text": [
      "Yes, 'World' is present.\n",
      "No, 'school' is not present.\n"
     ]
    }
   ],
   "source": [
    "hello = \"Hello, World!Good days are yet to come\"\n",
    "if \"World\" in hello:\n",
    "    print(\"Yes, 'World' is present.\")\n",
    "if \"school\" not in hello:\n",
    "    print(\"No, 'school' is not present.\")"
   ]
  },
  {
   "cell_type": "markdown",
   "id": "ad66f35a",
   "metadata": {},
   "source": [
    ">Sting Slicing"
   ]
  },
  {
   "cell_type": "code",
   "execution_count": 16,
   "id": "0b6ea549",
   "metadata": {},
   "outputs": [
    {
     "name": "stdout",
     "output_type": "stream",
     "text": [
      "Hello\n",
      "llo\n",
      "llo, World!\n",
      "Hello, W\n"
     ]
    }
   ],
   "source": [
    "word = \"Hello, World!\"\n",
    "#Slice from start to position 5\n",
    "print(word[:5])\n",
    "#Slice from position 2 to position 5\n",
    "print(word[2:5])\n",
    "#Slice from position 2 to the end\n",
    "print(word[2:])\n",
    "#Slice from the start to position -5,starts from the end \n",
    "print(word[:-5])"
   ]
  },
  {
   "cell_type": "markdown",
   "id": "d5218501",
   "metadata": {},
   "source": [
    ">String Modifying"
   ]
  },
  {
   "cell_type": "code",
   "execution_count": 19,
   "id": "b25155af",
   "metadata": {},
   "outputs": [
    {
     "name": "stdout",
     "output_type": "stream",
     "text": [
      "MY NAME IS TALHA \n",
      "my name is talha \n",
      "my name is talha\n",
      "my namm is talha \n",
      "['my', 'name', 'is', 'talha', '']\n"
     ]
    }
   ],
   "source": [
    "#uper case\n",
    "a = \"my name is talha \"\n",
    "#upper case\n",
    "print(a.upper())\n",
    "#lower case\n",
    "print(a.lower())\n",
    "#Remove whitespace\n",
    "print(a.strip())\n",
    "#Replace string\n",
    "print(a.replace(\"e\", \"m\"))\n",
    "#Split string\n",
    "print(a.split(\" \"))"
   ]
  },
  {
   "cell_type": "markdown",
   "id": "dc3355d7",
   "metadata": {},
   "source": [
    ">String Concatination"
   ]
  },
  {
   "cell_type": "code",
   "execution_count": 20,
   "id": "1b5ce3ab",
   "metadata": {},
   "outputs": [
    {
     "name": "stdout",
     "output_type": "stream",
     "text": [
      "my name is talha\n"
     ]
    }
   ],
   "source": [
    "a = \"my name is\"\n",
    "b = \"talha\"\n",
    "c = a + \" \" + b\n",
    "print(c)"
   ]
  },
  {
   "cell_type": "markdown",
   "id": "36556ea0",
   "metadata": {},
   "source": [
    ">f String "
   ]
  },
  {
   "cell_type": "code",
   "execution_count": 25,
   "id": "07d1bd6f",
   "metadata": {},
   "outputs": [
    {
     "name": "stdout",
     "output_type": "stream",
     "text": [
      "we welcome you, Hello, World!\n",
      "My name is John, and I am 36 years old\n",
      "jhon age can not be like this 36.00!\n",
      "jhon age is 24!\n"
     ]
    }
   ],
   "source": [
    "word = \"Hello, World!\"\n",
    "print(f\"we welcome you, {word}\")\n",
    "#placeholder and modifiers \n",
    "age = 36\n",
    "txt = f\"My name is John, and I am {age} years old\"\n",
    "print(txt)\n",
    "#modifiers\n",
    "txt = f\"jhon age can not be like this {age:.2f}!\"\n",
    "print(txt)\n",
    "txt = f\"jhon age is {2*12}!\"\n",
    "print(txt)"
   ]
  },
  {
   "cell_type": "markdown",
   "id": "09e3c9f9",
   "metadata": {},
   "source": [
    ">Python List"
   ]
  },
  {
   "cell_type": "code",
   "execution_count": null,
   "id": "b6d7f210",
   "metadata": {},
   "outputs": [
    {
     "name": "stdout",
     "output_type": "stream",
     "text": [
      "['apple', 'banana', 'cherry', 'banana']\n",
      "4\n",
      "banana\n",
      "cherry\n"
     ]
    }
   ],
   "source": [
    "list = [\"apple\", \"banana\", \"cherry\",\"banana\"]\n",
    "print(list)\n",
    "#List length\n",
    "print(len(list))\n",
    "#Access items\n",
    "print(list[1])\n",
    "print(list[-2])"
   ]
  },
  {
   "cell_type": "markdown",
   "id": "135d53b9",
   "metadata": {},
   "source": [
    ">Muti data List"
   ]
  },
  {
   "cell_type": "code",
   "execution_count": 31,
   "id": "1d247afc",
   "metadata": {},
   "outputs": [
    {
     "name": "stdout",
     "output_type": "stream",
     "text": [
      "['apple', 'banana', 'cherry', 20, True, 5.5, 'apple']\n",
      "<class 'list'>\n",
      "[20, True]\n",
      "Yes, 'apple' is present.\n"
     ]
    }
   ],
   "source": [
    "#list can have muti data types\n",
    "homelist = [\"apple\", \"banana\", \"cherry\", 20, True, 5.5 ,\"apple\"]\n",
    "print(homelist)\n",
    "print(type(homelist))\n",
    "print(homelist[3:5])\n",
    "#Check if item exists\n",
    "if \"apple\" in homelist:\n",
    "    print(\"Yes, 'apple' is present.\")"
   ]
  },
  {
   "cell_type": "markdown",
   "id": "c026558a",
   "metadata": {},
   "source": [
    ">modify list"
   ]
  },
  {
   "cell_type": "code",
   "execution_count": 33,
   "id": "431b09c6",
   "metadata": {},
   "outputs": [
    {
     "name": "stdout",
     "output_type": "stream",
     "text": [
      "['apple', 'grapes', 'cherry', 'orange']\n",
      "['apple', 'kiwi', 'mango', 'orange']\n",
      "['apple', 'kiwi', 'watermelon', 'mango', 'orange']\n",
      "['apple', 'kiwi', 'watermelon', 'mango', 'orange', 'apple']\n"
     ]
    }
   ],
   "source": [
    "homelist = [\"apple\", \"banana\", \"cherry\", \"orange\"]\n",
    "#change a single item\n",
    "homelist[1] = \"grapes\"\n",
    "print(homelist)\n",
    "#chage a range of items\n",
    "homelist[1:3] = [\"kiwi\", \"mango\"]\n",
    "print(homelist)\n",
    "#Insert items\n",
    "homelist.insert(2, \"watermelon\")\n",
    "print(homelist)\n",
    "#Append items\n",
    "homelist.append(\"apple\")\n",
    "print(homelist)"
   ]
  },
  {
   "cell_type": "markdown",
   "id": "6d9890bc",
   "metadata": {},
   "source": [
    ">Extend List"
   ]
  },
  {
   "cell_type": "code",
   "execution_count": 35,
   "id": "1fa8da51",
   "metadata": {},
   "outputs": [
    {
     "name": "stdout",
     "output_type": "stream",
     "text": [
      "['apple', 'banana', 'cherry', 'mango', 'kiwi', 'orange']\n",
      "['apple', 'banana', 'cherry', 'mango', 'kiwi', 'orange', 'tuple1', 'tuple2', 'set1', 'set2']\n"
     ]
    }
   ],
   "source": [
    "homelist = [\"apple\", \"banana\", \"cherry\"]\n",
    "wordlist = [\"mango\", \"kiwi\", \"orange\"]\n",
    "# extend the homelist wiht wordlist\n",
    "homelist.extend(wordlist)\n",
    "print(homelist)\n",
    "\n",
    "#Add any iterable (tuples, sets, dictionaries etc.)\n",
    "tuple1 = (\"tuple1\", \"tuple2\")\n",
    "homelist.extend(tuple1)\n",
    "set1 = {\"set1\", \"set2\"}\n",
    "homelist.extend(set1)\n",
    "print(homelist)\n"
   ]
  },
  {
   "cell_type": "markdown",
   "id": "221bd0e3",
   "metadata": {},
   "source": [
    ">Removing from the list"
   ]
  },
  {
   "cell_type": "code",
   "execution_count": null,
   "id": "3dadf90b",
   "metadata": {},
   "outputs": [
    {
     "name": "stdout",
     "output_type": "stream",
     "text": [
      "['apple', 'cherry', 'orange', 'banana', 'kiwi', 'mango']\n",
      "['apple', 'cherry', 'orange', 'banana', 'kiwi']\n",
      "['apple', 'orange', 'banana', 'kiwi']\n",
      "['orange', 'banana', 'kiwi']\n"
     ]
    }
   ],
   "source": [
    "homelist = [\"apple\", \"banana\", \"cherry\", \"orange\", \"banana\", \"kiwi\", \"mango\"]\n",
    "#Remove specific item\n",
    "homelist.remove(\"banana\")\n",
    "print(homelist)\n",
    "#Remove last item\n",
    "homelist.pop()\n",
    "print(homelist)\n",
    "#Remove item at specific index using pop\n",
    "homelist.pop(1)\n",
    "print(homelist)\n",
    "#Remove item at specific index using del\n",
    "del homelist[0]\n",
    "print(homelist)\n",
    "#Clear the list\n",
    "homelist.clear()\n",
    "#delete the list completely \n",
    "del homelist\n"
   ]
  },
  {
   "cell_type": "markdown",
   "id": "0c7db17d",
   "metadata": {},
   "source": [
    ">Looping through a List\n"
   ]
  },
  {
   "cell_type": "code",
   "execution_count": 40,
   "id": "52c51f50",
   "metadata": {},
   "outputs": [
    {
     "name": "stdout",
     "output_type": "stream",
     "text": [
      "apple\n",
      "banana\n",
      "cherry\n",
      "----\n",
      "apple\n",
      "banana\n",
      "cherry\n",
      "----\n",
      "apple\n",
      "banana\n",
      "cherry\n"
     ]
    }
   ],
   "source": [
    "homelist = [\"apple\", \"banana\", \"cherry\"]\n",
    "#print all items using for loop\n",
    "for x in homelist:\n",
    "    print(x)\n",
    "\n",
    "print(\"----\")\n",
    "#print all items by their index number using for loop\n",
    "for i in range(len(homelist)):\n",
    "    print(homelist[i])\n",
    "\n",
    "print(\"----\")\n",
    "#print all items using while loop\n",
    "z = 0\n",
    "while z < len(homelist):\n",
    "    print(homelist[z])\n",
    "    z += 1\n"
   ]
  },
  {
   "cell_type": "markdown",
   "id": "0fbd21ea",
   "metadata": {},
   "source": [
    ">Sorting List"
   ]
  },
  {
   "cell_type": "code",
   "execution_count": 41,
   "id": "2b3a9aa6",
   "metadata": {},
   "outputs": [
    {
     "name": "stdout",
     "output_type": "stream",
     "text": [
      "['apple', 'banana', 'banana', 'cherry', 'orange']\n",
      "['orange', 'cherry', 'banana', 'banana', 'apple']\n",
      "[23, 50, 65, 82, 100]\n"
     ]
    }
   ],
   "source": [
    "homelist = [\"apple\", \"banana\", \"cherry\", \"orange\", \"banana\"]\n",
    "#sort the list alphabetically\n",
    "homelist.sort()\n",
    "print(homelist)\n",
    "#sort the list in reverse alphabetical order\n",
    "homelist.sort(reverse = True)\n",
    "print(homelist)\n",
    "\n",
    "numberlist = [100, 50, 65, 82, 23]\n",
    "numberlist.sort()\n",
    "print(numberlist)"
   ]
  },
  {
   "cell_type": "markdown",
   "id": "c48d6e9c",
   "metadata": {},
   "source": [
    ">Customize Sort Functions"
   ]
  },
  {
   "cell_type": "code",
   "execution_count": 44,
   "id": "d609573b",
   "metadata": {},
   "outputs": [
    {
     "name": "stdout",
     "output_type": "stream",
     "text": [
      "['apple', 'banana', 'banana', 'cherry', 'Orange']\n",
      "[23, 50, 65, 82, 100]\n",
      "[100, 82, 65, 50, 23]\n"
     ]
    }
   ],
   "source": [
    "homelist = [\"apple\", \"banana\", \"cherry\" , \"Orange\", \"banana\"]\n",
    "#sort the list case insensitively\n",
    "homelist.sort(key = str.lower)\n",
    "print(homelist) \n",
    "\n",
    "numberlist = [100, 50, 65, 82, 23]\n",
    "#sort the list \n",
    "numberlist.sort()\n",
    "print(numberlist)\n",
    "\n",
    "#reverse the order of the list\n",
    "numberlist.reverse()\n",
    "print(numberlist)\n"
   ]
  },
  {
   "cell_type": "markdown",
   "id": "10f84c18",
   "metadata": {},
   "source": [
    ">Copy List"
   ]
  },
  {
   "cell_type": "code",
   "execution_count": 46,
   "id": "f38a4c22",
   "metadata": {},
   "outputs": [
    {
     "name": "stdout",
     "output_type": "stream",
     "text": [
      "['apple', 'banana', 'cherry']\n"
     ]
    }
   ],
   "source": [
    "homelist = [\"apple\", \"banana\", \"cherry\"]\n",
    "textlist = homelist.copy()\n",
    "print(textlist)"
   ]
  },
  {
   "cell_type": "code",
   "execution_count": null,
   "id": "c13238a0",
   "metadata": {},
   "outputs": [],
   "source": []
  },
  {
   "cell_type": "markdown",
   "id": "aefff5a4",
   "metadata": {},
   "source": [
    ">Tuples"
   ]
  },
  {
   "cell_type": "code",
   "execution_count": 50,
   "id": "78fcd90a",
   "metadata": {},
   "outputs": [
    {
     "name": "stdout",
     "output_type": "stream",
     "text": [
      "['apple', 'banana', 'cherry']\n",
      "('apple',)\n"
     ]
    }
   ],
   "source": [
    "hometuple = (\"apple\", \"banana\", \"cherry\")\n",
    "print(textlist)\n",
    "#tuple with one item\n",
    "thistuple = (\"apple\",)\n",
    "print(thistuple)"
   ]
  },
  {
   "cell_type": "markdown",
   "id": "4b51702b",
   "metadata": {},
   "source": [
    ">Add tuple to a tuple"
   ]
  },
  {
   "cell_type": "code",
   "execution_count": 51,
   "id": "736ee21d",
   "metadata": {},
   "outputs": [
    {
     "name": "stdout",
     "output_type": "stream",
     "text": [
      "('apple', 'banana', 'cherry', 'orange')\n"
     ]
    }
   ],
   "source": [
    "hometuple = (\"apple\", \"banana\", \"cherry\")\n",
    "thistuple = (\"orange\",)\n",
    "hometuple = hometuple + thistuple\n",
    "print(hometuple)"
   ]
  },
  {
   "cell_type": "markdown",
   "id": "87b50546",
   "metadata": {},
   "source": [
    ">Sets "
   ]
  },
  {
   "cell_type": "code",
   "execution_count": 52,
   "id": "2beee1db",
   "metadata": {},
   "outputs": [
    {
     "name": "stdout",
     "output_type": "stream",
     "text": [
      "{'banana', 'apple', 'cherry'}\n"
     ]
    }
   ],
   "source": [
    "homeSet = {\"apple\", \"banana\", \"cherry\"}\n",
    "print(homeSet)"
   ]
  },
  {
   "cell_type": "markdown",
   "id": "f05bb4b3",
   "metadata": {},
   "source": [
    ">modify sets"
   ]
  },
  {
   "cell_type": "code",
   "execution_count": 59,
   "id": "6dffcc3f",
   "metadata": {},
   "outputs": [
    {
     "name": "stdout",
     "output_type": "stream",
     "text": [
      "{'banana', 'orange', 'apple', 'cherry'}\n",
      "{1, 2, 3, 4, 5, 'apple', 'cherry', 'orange', 'banana'}\n",
      "{1, 2, 3, 4, 5, 'apple', 'cherry', 'orange'}\n"
     ]
    }
   ],
   "source": [
    "homeSet = {\"apple\", \"banana\", \"cherry\"}\n",
    "#add one item\n",
    "homeSet.add(\"orange\")\n",
    "print(homeSet)\n",
    "#add multiple items by updating the whole list\n",
    "numberSet = {1, 2, 3, 4, 5}\n",
    "homeSet.update(numberSet)\n",
    "print(homeSet)\n",
    "#remove item\n",
    "homeSet.remove(\"banana\")\n",
    "print(homeSet)"
   ]
  },
  {
   "cell_type": "markdown",
   "id": "cfbdb724",
   "metadata": {},
   "source": [
    ">Dictionary "
   ]
  },
  {
   "cell_type": "code",
   "execution_count": 5,
   "id": "d49b5c07",
   "metadata": {},
   "outputs": [
    {
     "name": "stdout",
     "output_type": "stream",
     "text": [
      "Mehtab\n",
      "['Talha', 'Adeeb', 'noor']\n",
      "123\n"
     ]
    }
   ],
   "source": [
    "homeDic = {\n",
    "    \"name\":\"Mehtab\",\n",
    "    \"houseNumber\" : 123,\n",
    "    \"members\" : [\"Talha\", \"Adeeb\", \"noor\"],\n",
    "}\n",
    "\n",
    "print(homeDic['name'])\n",
    "print(homeDic['members'])\n",
    "print(homeDic['houseNumber'])"
   ]
  },
  {
   "cell_type": "code",
   "execution_count": 20,
   "id": "f5ebaebb",
   "metadata": {},
   "outputs": [
    {
     "name": "stdout",
     "output_type": "stream",
     "text": [
      "{'name': 'John', 'age': 30, 'city': 'New York'}\n",
      "dict_keys(['name', 'age', 'city'])\n",
      "dict_values(['John', 30, 'New York'])\n",
      "30\n",
      "------\n",
      "{'name': 'John', 'age': 30, 'city': 'New York', 'Hello': 'Welcome'}\n",
      "<class 'dict'>\n",
      "------\n",
      "dict_items([('name', 'John'), ('age', 30), ('city', 'New York'), ('Hello', 'Welcome')])\n",
      "<class 'dict_items'>\n",
      "------\n",
      "dict_items([('name', 'John'), ('age', 31), ('city', 'New York'), ('Hello', 'Welcome')])\n"
     ]
    }
   ],
   "source": [
    "homeDic = {\n",
    "    \"name\": \"John\",\n",
    "    \"age\": 30,\n",
    "    \"city\": \"New York\"\n",
    "}\n",
    "print(homeDic)\n",
    "print(homeDic.keys())\n",
    "print(homeDic.values())\n",
    "print(homeDic.get(\"age\"))\n",
    "print(\"------\")\n",
    "homeDic[\"Hello\"] = \"Welcome\"\n",
    "print(homeDic)\n",
    "print(type(homeDic))\n",
    "\n",
    "x = homeDic.items()\n",
    "print(\"------\")\n",
    "print(x)\n",
    "print(type(x))\n",
    "\n",
    "print(\"------\")\n",
    "homeDic[\"age\"] = 31\n",
    "print(x)"
   ]
  },
  {
   "cell_type": "markdown",
   "id": "9ef62420",
   "metadata": {},
   "source": [
    ">Modify Dictionary"
   ]
  },
  {
   "cell_type": "code",
   "execution_count": null,
   "id": "b21e0fd2",
   "metadata": {},
   "outputs": [
    {
     "name": "stdout",
     "output_type": "stream",
     "text": [
      "{'name': 'Talha', 'houseNumber': 123, 'members': ['Talha', 'Adeeb', 'noor'], 'address': {'street': 'abc street', 'city': 'karachi', 'country': 'Pakistan'}, 'bell': True}\n",
      "{'name': 'Talha', 'address': {'street': 'abc street', 'city': 'karachi', 'country': 'Pakistan'}, 'bell': True}\n"
     ]
    }
   ],
   "source": [
    "homeDic = {\n",
    "    \"name\":\"Mehtab\",\n",
    "    \"houseNumber\" : 123,\n",
    "    \"members\" : [\"Talha\", \"Adeeb\", \"noor\"],\n",
    "    \"address\" : {\"street\": \"abc street\", \"city\": \"karachi\", \"country\": \"Pakistan\"}\n",
    "}\n",
    "#add or update dictionary\n",
    "homeDic.update({\"name\":\"Talha\"})\n",
    "homeDic.update({\"bell\": True})\n",
    "print(homeDic)\n",
    "\n",
    "#remove the dictionary item\n",
    "homeDic.pop(\"houseNumber\")\n",
    "del homeDic[\"members\"]\n",
    "homeDic.clear()\n",
    "del homeDic\n",
    "print(homeDic)"
   ]
  },
  {
   "cell_type": "markdown",
   "id": "5c5128e3",
   "metadata": {},
   "source": [
    ">Loop through the Dictionaries"
   ]
  },
  {
   "cell_type": "code",
   "execution_count": 28,
   "id": "ed43b2d7",
   "metadata": {},
   "outputs": [
    {
     "name": "stdout",
     "output_type": "stream",
     "text": [
      "name\n",
      "houseNumber\n",
      "members\n",
      "------\n",
      "Mehtab\n",
      "123\n",
      "['Talha', 'Adeeb', 'noor']\n",
      "------\n",
      "Mehtab\n",
      "123\n",
      "['Talha', 'Adeeb', 'noor']\n",
      "------\n",
      "name Mehtab\n",
      "houseNumber 123\n",
      "members ['Talha', 'Adeeb', 'noor']\n"
     ]
    }
   ],
   "source": [
    "homeDic = {\n",
    "    \"name\":\"Mehtab\",\n",
    "    \"houseNumber\" : 123,\n",
    "    \"members\" : [\"Talha\", \"Adeeb\", \"noor\"],\n",
    "}\n",
    "#print All the keys in the dictionary one by one\n",
    "for x in homeDic:\n",
    "    print(x)\n",
    "\n",
    "print(\"------\")\n",
    "#print All the values in the dictionary one by one\n",
    "for x in homeDic:\n",
    "    print(homeDic[x])\n",
    "\n",
    "print(\"------\")\n",
    "for x in homeDic.values():\n",
    "    print(x)\n",
    "\n",
    "print(\"------\")\n",
    "#lets iterate both keys and values one by one\n",
    "for x,y in homeDic.items():\n",
    "    print(x, y)"
   ]
  }
 ],
 "metadata": {
  "kernelspec": {
   "display_name": "Python 3",
   "language": "python",
   "name": "python3"
  },
  "language_info": {
   "codemirror_mode": {
    "name": "ipython",
    "version": 3
   },
   "file_extension": ".py",
   "mimetype": "text/x-python",
   "name": "python",
   "nbconvert_exporter": "python",
   "pygments_lexer": "ipython3",
   "version": "3.13.5"
  }
 },
 "nbformat": 4,
 "nbformat_minor": 5
}
